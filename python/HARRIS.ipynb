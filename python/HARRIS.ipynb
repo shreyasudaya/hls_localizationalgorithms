{
  "nbformat": 4,
  "nbformat_minor": 0,
  "metadata": {
    "colab": {
      "provenance": [],
      "authorship_tag": "ABX9TyMuJbAewJeOrILuxYAxxNpG",
      "include_colab_link": true
    },
    "kernelspec": {
      "name": "python3",
      "display_name": "Python 3"
    },
    "language_info": {
      "name": "python"
    }
  },
  "cells": [
    {
      "cell_type": "markdown",
      "metadata": {
        "id": "view-in-github",
        "colab_type": "text"
      },
      "source": [
        "<a href=\"https://colab.research.google.com/github/shreyasudaya/hls_localizationalgorithms/blob/main/HARRIS.ipynb\" target=\"_parent\"><img src=\"https://colab.research.google.com/assets/colab-badge.svg\" alt=\"Open In Colab\"/></a>"
      ]
    },
    {
      "cell_type": "code",
      "execution_count": 27,
      "metadata": {
        "id": "zP_FwTpQGTiH"
      },
      "outputs": [],
      "source": [
        "import numpy as np\n",
        "from google.colab.patches import cv2_imshow\n",
        "import cv2\n",
        "import glob"
      ]
    },
    {
      "cell_type": "code",
      "source": [
        "# Kernel operation using input operator of size 3*3\n",
        "def GetSobel(image, Sobel, width, height):\n",
        "    # Initialize the matrix\n",
        "    I_d = np.zeros((width, height), np.float32)\n",
        "\n",
        "    # For every pixel in the image\n",
        "    for rows in range(width):\n",
        "        for cols in range(height):\n",
        "            # Run the Sobel kernel for each pixel\n",
        "            if rows >= 1 or rows <= width-2 and cols >= 1 or cols <= height-2:\n",
        "                for ind in range(3):\n",
        "                    for ite in range(3):\n",
        "                        I_d[rows][cols] += Sobel[ind][ite] * image[rows - ind - 1][cols - ite - 1]\n",
        "            else:\n",
        "                I_d[rows][cols] = image[rows][cols]\n",
        "\n",
        "    return I_d"
      ],
      "metadata": {
        "id": "cK5o-E7oGV3s"
      },
      "execution_count": 28,
      "outputs": []
    },
    {
      "cell_type": "code",
      "source": [
        "# Method implements the Harris Corner Detection algorithm\n",
        "def HarrisCornerDetection(image):\n",
        "\n",
        "    # The two Sobel operators - for x and y direction\n",
        "    SobelX = np.array([[-1, 0, 1], [-2, 0, 2], [-1, 0, 1]])\n",
        "    SobelY = np.array([[-1, -2, -1], [0, 0, 0], [1, 2, 1]])\n",
        "\n",
        "    w, h = image.shape\n",
        "\n",
        "    # X and Y derivative of image using Sobel operator\n",
        "    ImgX = GetSobel(image, SobelX, w, h)\n",
        "    ImgY = GetSobel(image, SobelY, w, h)\n",
        "\n",
        "    # # Eliminate the negative values\n",
        "    # There are multiple ways this can be done\n",
        "    # 1. Off setting with a positive value (commented out below)\n",
        "    # 2. Setting negative values to Zero (commented out)\n",
        "    # 3. Multiply by -1 (implemented below, found most reliable method)\n",
        "    # ImgX += 128.0\n",
        "    # ImgY += 128.0\n",
        "    for ind1 in range(w):\n",
        "        for ind2 in range(h):\n",
        "            if ImgY[ind1][ind2] < 0:\n",
        "                ImgY[ind1][ind2] *= -1\n",
        "                # ImgY[ind1][ind2] = 0\n",
        "            if ImgX[ind1][ind2] < 0:\n",
        "                ImgX[ind1][ind2] *= -1\n",
        "                # ImgX[ind1][ind2] = 0\n",
        "\n",
        "    # # Display the output results after Sobel operations\n",
        "    # cv2.imshow(\"SobelX\", ImgX)\n",
        "    # cv2.imshow(\"SobelY\", ImgY)\n",
        "\n",
        "    ImgX_2 = np.square(ImgX)\n",
        "    ImgY_2 = np.square(ImgY)\n",
        "\n",
        "    ImgXY = np.multiply(ImgX, ImgY)\n",
        "    ImgYX = np.multiply(ImgY, ImgX)\n",
        "\n",
        "    #Use Gaussian Blur\n",
        "    Sigma = 1.4\n",
        "    kernelsize = (3, 3)\n",
        "\n",
        "    ImgX_2 = cv2.GaussianBlur(ImgX_2, kernelsize, Sigma)\n",
        "    ImgY_2 = cv2.GaussianBlur(ImgY_2, kernelsize, Sigma)\n",
        "    ImgXY = cv2.GaussianBlur(ImgXY, kernelsize, Sigma)\n",
        "    ImgYX = cv2.GaussianBlur(ImgYX, kernelsize, Sigma)\n",
        "    # print(ImgXY.shape, ImgYX.shape)\n",
        "\n",
        "    alpha = 0.06\n",
        "    R = np.zeros((w, h), np.float32)\n",
        "    # For every pixel find the corner strength\n",
        "    for row in range(w):\n",
        "        for col in range(h):\n",
        "            M_bar = np.array([[ImgX_2[row][col], ImgXY[row][col]], [ImgYX[row][col], ImgY_2[row][col]]])\n",
        "            R[row][col] = np.linalg.det(M_bar) - (alpha * np.square(np.trace(M_bar)))\n",
        "    return R"
      ],
      "metadata": {
        "id": "KdLIxXYEGYQy"
      },
      "execution_count": 29,
      "outputs": []
    },
    {
      "cell_type": "code",
      "source": [
        "#### Main Program ####\n",
        "firstimagename = '/content/chessboard.png'\n",
        "\n",
        "# Get the first image\n",
        "firstimage = cv2.imread(firstimagename, cv2.IMREAD_GRAYSCALE)\n",
        "w, h = firstimage.shape\n",
        "\n",
        "# Covert image to color to draw colored circles on it\n",
        "bgr = cv2.cvtColor(firstimage, cv2.COLOR_GRAY2RGB)\n",
        "\n",
        "# Corner detection\n",
        "R = HarrisCornerDetection(firstimage)\n",
        "\n",
        "# Empirical Parameter\n",
        "# This parameter will need tuning based on the use-case\n",
        "CornerStrengthThreshold = 600000\n",
        "\n",
        "# Plot detected corners on image\n",
        "radius = 1\n",
        "color = (0, 255, 0)  # Green\n",
        "thickness = 1\n",
        "\n",
        "PointList = []"
      ],
      "metadata": {
        "id": "o5I-HIIlGbP0"
      },
      "execution_count": 30,
      "outputs": []
    },
    {
      "cell_type": "code",
      "source": [
        "# Look for Corner strengths above the threshold\n",
        "for row in range(w):\n",
        "    for col in range(h):\n",
        "        if R[row][col] > CornerStrengthThreshold:\n",
        "            # print(R[row][col])\n",
        "            max = R[row][col]\n",
        "\n",
        "            # Local non-maxima suppression\n",
        "            skip = False\n",
        "            for nrow in range(5):\n",
        "                for ncol in range(5):\n",
        "                    if row + nrow - 2 < w and col + ncol - 2 < h:\n",
        "                        if R[row + nrow - 2][col + ncol - 2] > max:\n",
        "                            skip = True\n",
        "                            break\n",
        "\n",
        "            if not skip:\n",
        "                # Point is expressed in x, y which is col, row\n",
        "                cv2.circle(bgr, (col, row), radius, color, thickness)\n",
        "                PointList.append((row, col))\n"
      ],
      "metadata": {
        "id": "4bYjEWI9GeI5"
      },
      "execution_count": 31,
      "outputs": []
    },
    {
      "cell_type": "code",
      "source": [
        "# Display image indicating corners and save it\n",
        "cv2_imshow(bgr)\n",
        "outname = \"Output_\" + str(CornerStrengthThreshold) + \".png\"\n",
        "cv2.imwrite(outname, bgr)\n",
        "\n",
        "cv2.waitKey(0)\n",
        "cv2.destroyAllWindows()"
      ],
      "metadata": {
        "colab": {
          "base_uri": "https://localhost:8080/",
          "height": 147
        },
        "id": "h4gACycEGhV0",
        "outputId": "04d66685-9626-434b-ce3d-2e71a1994205"
      },
      "execution_count": 32,
      "outputs": [
        {
          "output_type": "display_data",
          "data": {
            "text/plain": [
              "<PIL.Image.Image image mode=RGB size=136x130>"
            ],
            "image/png": "[encoded data removed]"
          },
          "metadata": {}
        }
      ]
    },
    {
      "cell_type": "code",
      "source": [
        "'''void cv::GaussianBlur( InputArray _src, OutputArray _dst, Size ksize,\n",
        "                   double sigma1, double sigma2,\n",
        "                   int borderType )\n",
        "{\n",
        "    CV_INSTRUMENT_REGION();\n",
        "\n",
        "    int type = _src.type();\n",
        "    Size size = _src.size();\n",
        "    _dst.create( size, type );\n",
        "\n",
        "    if( (borderType & ~BORDER_ISOLATED) != BORDER_CONSTANT &&\n",
        "        ((borderType & BORDER_ISOLATED) != 0 || !_src.getMat().isSubmatrix()) )\n",
        "    {\n",
        "        if( size.height == 1 )\n",
        "            ksize.height = 1;\n",
        "        if( size.width == 1 )\n",
        "            ksize.width = 1;\n",
        "    }\n",
        "\n",
        "    if( ksize.width == 1 && ksize.height == 1 )\n",
        "    {\n",
        "        _src.copyTo(_dst);\n",
        "        return;\n",
        "    }\n",
        "\n",
        "    bool useOpenCL = (ocl::isOpenCLActivated() && _dst.isUMat() && _src.dims() <= 2 &&\n",
        "               ((ksize.width == 3 && ksize.height == 3) ||\n",
        "               (ksize.width == 5 && ksize.height == 5)) &&\n",
        "               _src.rows() > ksize.height && _src.cols() > ksize.width);\n",
        "    CV_UNUSED(useOpenCL);\n",
        "\n",
        "    int sdepth = CV_MAT_DEPTH(type), cn = CV_MAT_CN(type);\n",
        "\n",
        "    Mat kx, ky;\n",
        "    createGaussianKernels(kx, ky, type, ksize, sigma1, sigma2);\n",
        "\n",
        "    CV_OCL_RUN(useOpenCL, ocl_GaussianBlur_8UC1(_src, _dst, ksize, CV_MAT_DEPTH(type), kx, ky, borderType));\n",
        "\n",
        "    CV_OCL_RUN(_dst.isUMat() && _src.dims() <= 2 && (size_t)_src.rows() > kx.total() && (size_t)_src.cols() > kx.total(),\n",
        "               ocl_sepFilter2D(_src, _dst, sdepth, kx, ky, Point(-1, -1), 0, borderType))\n",
        "\n",
        "    Mat src = _src.getMat();\n",
        "    Mat dst = _dst.getMat();\n",
        "\n",
        "    Point ofs;\n",
        "    Size wsz(src.cols, src.rows);\n",
        "    if(!(borderType & BORDER_ISOLATED))\n",
        "        src.locateROI( wsz, ofs );\n",
        "\n",
        "    CALL_HAL(gaussianBlur, cv_hal_gaussianBlur, src.ptr(), src.step, dst.ptr(), dst.step, src.cols, src.rows, sdepth, cn,\n",
        "             ofs.x, ofs.y, wsz.width - src.cols - ofs.x, wsz.height - src.rows - ofs.y, ksize.width, ksize.height,\n",
        "             sigma1, sigma2, borderType&~BORDER_ISOLATED);\n",
        "\n",
        "    CV_OVX_RUN(true,\n",
        "               openvx_gaussianBlur(src, dst, ksize, sigma1, sigma2, borderType))\n",
        "\n",
        "    CV_IPP_RUN_FAST(ipp_GaussianBlur(src, dst, ksize, sigma1, sigma2, borderType));\n",
        "\n",
        "    if(sdepth == CV_8U && ((borderType & BORDER_ISOLATED) || !_src.getMat().isSubmatrix()))\n",
        "    {\n",
        "        std::vector<ufixedpoint16> fkx, fky;\n",
        "        createGaussianKernels(fkx, fky, type, ksize, sigma1, sigma2);\n",
        "        if (src.data == dst.data)\n",
        "            src = src.clone();\n",
        "        fixedSmoothInvoker<uint8_t, ufixedpoint16> invoker(src.ptr<uint8_t>(), src.step1(), dst.ptr<uint8_t>(), dst.step1(), dst.cols, dst.rows, dst.channels(), &fkx[0], (int)fkx.size(), &fky[0], (int)fky.size(), borderType & ~BORDER_ISOLATED);\n",
        "        parallel_for_(Range(0, dst.rows), invoker, std::max(1, std::min(getNumThreads(), getNumberOfCPUs())));\n",
        "        return;\n",
        "    }\n",
        "\n",
        "    sepFilter2D(src, dst, sdepth, kx, ky, Point(-1, -1), 0, borderType);\n",
        "}\n",
        "'''\n",
        "\n"
      ],
      "metadata": {
        "colab": {
          "base_uri": "https://localhost:8080/",
          "height": 140
        },
        "id": "b57XAT_OOY2N",
        "outputId": "8518956c-9d8d-4e28-d173-27fcd292d955"
      },
      "execution_count": 33,
      "outputs": [
        {
          "output_type": "execute_result",
          "data": {
            "text/plain": [
              "'void cv::GaussianBlur( InputArray _src, OutputArray _dst, Size ksize,\\n                   double sigma1, double sigma2,\\n                   int borderType )\\n{\\n    CV_INSTRUMENT_REGION();\\n\\n    int type = _src.type();\\n    Size size = _src.size();\\n    _dst.create( size, type );\\n\\n    if( (borderType & ~BORDER_ISOLATED) != BORDER_CONSTANT &&\\n        ((borderType & BORDER_ISOLATED) != 0 || !_src.getMat().isSubmatrix()) )\\n    {\\n        if( size.height == 1 )\\n            ksize.height = 1;\\n        if( size.width == 1 )\\n            ksize.width = 1;\\n    }\\n\\n    if( ksize.width == 1 && ksize.height == 1 )\\n    {\\n        _src.copyTo(_dst);\\n        return;\\n    }\\n\\n    bool useOpenCL = (ocl::isOpenCLActivated() && _dst.isUMat() && _src.dims() <= 2 &&\\n               ((ksize.width == 3 && ksize.height == 3) ||\\n               (ksize.width == 5 && ksize.height == 5)) &&\\n               _src.rows() > ksize.height && _src.cols() > ksize.width);\\n    CV_UNUSED(useOpenCL);\\n\\n    int sdepth = CV_MAT_DEPTH(type), cn = CV_MAT_CN(type);\\n\\n    Mat kx, ky;\\n    createGaussianKernels(kx, ky, type, ksize, sigma1, sigma2);\\n\\n    CV_OCL_RUN(useOpenCL, ocl_GaussianBlur_8UC1(_src, _dst, ksize, CV_MAT_DEPTH(type), kx, ky, borderType));\\n\\n    CV_OCL_RUN(_dst.isUMat() && _src.dims() <= 2 && (size_t)_src.rows() > kx.total() && (size_t)_src.cols() > kx.total(),\\n               ocl_sepFilter2D(_src, _dst, sdepth, kx, ky, Point(-1, -1), 0, borderType))\\n\\n    Mat src = _src.getMat();\\n    Mat dst = _dst.getMat();\\n\\n    Point ofs;\\n    Size wsz(src.cols, src.rows);\\n    if(!(borderType & BORDER_ISOLATED))\\n        src.locateROI( wsz, ofs );\\n\\n    CALL_HAL(gaussianBlur, cv_hal_gaussianBlur, src.ptr(), src.step, dst.ptr(), dst.step, src.cols, src.rows, sdepth, cn,\\n             ofs.x, ofs.y, wsz.width - src.cols - ofs.x, wsz.height - src.rows - ofs.y, ksize.width, ksize.height,\\n             sigma1, sigma2, borderType&~BORDER_ISOLATED);\\n\\n    CV_OVX_RUN(true,\\n               openvx_gaussianBlur(src, dst, ksize, sigma1, sigma2, borderType))\\n\\n    CV_IPP_RUN_FAST(ipp_GaussianBlur(src, dst, ksize, sigma1, sigma2, borderType));\\n\\n    if(sdepth == CV_8U && ((borderType & BORDER_ISOLATED) || !_src.getMat().isSubmatrix()))\\n    {\\n        std::vector<ufixedpoint16> fkx, fky;\\n        createGaussianKernels(fkx, fky, type, ksize, sigma1, sigma2);\\n        if (src.data == dst.data)\\n            src = src.clone();\\n        fixedSmoothInvoker<uint8_t, ufixedpoint16> invoker(src.ptr<uint8_t>(), src.step1(), dst.ptr<uint8_t>(), dst.step1(), dst.cols, dst.rows, dst.channels(), &fkx[0], (int)fkx.size(), &fky[0], (int)fky.size(), borderType & ~BORDER_ISOLATED);\\n        parallel_for_(Range(0, dst.rows), invoker, std::max(1, std::min(getNumThreads(), getNumberOfCPUs())));\\n        return;\\n    }\\n\\n    sepFilter2D(src, dst, sdepth, kx, ky, Point(-1, -1), 0, borderType);\\n}\\n'"
            ],
            "application/vnd.google.colaboratory.intrinsic+json": {
              "type": "string"
            }
          },
          "metadata": {},
          "execution_count": 33
        }
      ]
    },
    {
      "cell_type": "code",
      "source": [],
      "metadata": {
        "id": "ykxtGb4xOu3d"
      },
      "execution_count": 33,
      "outputs": []
    }
  ]
}